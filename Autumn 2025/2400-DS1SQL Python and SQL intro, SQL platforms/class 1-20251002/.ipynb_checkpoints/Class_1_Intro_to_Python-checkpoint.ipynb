{
 "cells": [
  {
   "cell_type": "markdown",
   "id": "67d5c7ed",
   "metadata": {},
   "source": [
    "\n",
    "# Python and SQL (Intro) — Class 1: Introduction to Python\n",
    "\n",
    "Welcome! This notebook mirrors the main ideas from the first class: **Why Python?**, **Jupyter**, **VS Code**, **calculator use**, **data types**, **libraries**, **file I/O**, **indentation**, **errors**, and **comments**.  \n",
    "Use it interactively: run code cells, try the mini‑exercises, and experiment freely.\n"
   ]
  },
  {
   "cell_type": "markdown",
   "id": "e51b0f13",
   "metadata": {},
   "source": [
    "\n",
    "## Why Python?\n",
    "- **Readable & beginner‑friendly** syntax  \n",
    "- **Versatile**: scripting, data science, web, ML/AI, automation  \n",
    "- **Rich ecosystem**: `numpy`, `pandas`, `matplotlib`, `scikit-learn`, `Django`, `Flask`, `FastAPI`, `PyTorch`, `TensorFlow`  \n",
    "- **Cross‑platform** and **great community**\n",
    "\n",
    "> Fun fact: the name comes from *Monty Python’s Flying Circus*.\n"
   ]
  },
  {
   "cell_type": "markdown",
   "id": "e1ab6ab3",
   "metadata": {},
   "source": [
    "\n",
    "## Jupyter Notebook quick tips\n",
    "- **Shift + Enter**: run cell, go to next  \n",
    "- **Ctrl/Cmd + Enter**: run cell, stay  \n",
    "- **A / B**: insert cell Above/Below (in command mode — press `Esc`)  \n",
    "- **M / Y**: Markdown / Code  \n",
    "- **D, D**: delete cell  \n",
    "- **H**: keyboard shortcut help\n"
   ]
  },
  {
   "cell_type": "code",
   "execution_count": 1,
   "id": "a1c7e9dd",
   "metadata": {},
   "outputs": [
    {
     "name": "stdout",
     "output_type": "stream",
     "text": [
      "Hello, Jupyter!\n"
     ]
    }
   ],
   "source": [
    "print(\"Hello, Jupyter!\")"
   ]
  },
  {
   "cell_type": "markdown",
   "id": "27da1f68",
   "metadata": {},
   "source": [
    "\n",
    "## Visual Studio Code\n",
    "- Excellent for scripts, packages, apps  \n",
    "- Built‑in debugger, terminal, Git integration  \n",
    "- Use notebooks **or** `.py` files; choose what fits your task.\n"
   ]
  },
  {
   "cell_type": "markdown",
   "id": "1e8cac43",
   "metadata": {},
   "source": [
    "\n",
    "## Python as a calculator\n",
    "Try a few operations. Predict the result before you run!\n"
   ]
  },
  {
   "cell_type": "code",
   "execution_count": 2,
   "id": "660ff439",
   "metadata": {},
   "outputs": [
    {
     "data": {
      "text/plain": [
       "14"
      ]
     },
     "execution_count": 2,
     "metadata": {},
     "output_type": "execute_result"
    }
   ],
   "source": [
    "\n",
    "2 + 3 * 4        # operator precedence (PEMDAS)\n"
   ]
  },
  {
   "cell_type": "code",
   "execution_count": 4,
   "id": "4e732fa5-43b0-4052-87a4-d830a7bdf116",
   "metadata": {},
   "outputs": [
    {
     "data": {
      "text/plain": [
       "888"
      ]
     },
     "execution_count": 4,
     "metadata": {},
     "output_type": "execute_result"
    }
   ],
   "source": [
    "# OM\n",
    "232 + 656 "
   ]
  },
  {
   "cell_type": "code",
   "execution_count": 3,
   "id": "a0a5cda1",
   "metadata": {},
   "outputs": [
    {
     "data": {
      "text/plain": [
       "3"
      ]
     },
     "execution_count": 3,
     "metadata": {},
     "output_type": "execute_result"
    }
   ],
   "source": [
    "\n",
    "10 // 3          # integer (floor) division\n"
   ]
  },
  {
   "cell_type": "code",
   "execution_count": 4,
   "id": "262c152f",
   "metadata": {},
   "outputs": [
    {
     "data": {
      "text/plain": [
       "1"
      ]
     },
     "execution_count": 4,
     "metadata": {},
     "output_type": "execute_result"
    }
   ],
   "source": [
    "\n",
    "10 % 3           # remainder (modulo)\n"
   ]
  },
  {
   "cell_type": "code",
   "execution_count": 5,
   "id": "b80482d6",
   "metadata": {},
   "outputs": [
    {
     "data": {
      "text/plain": [
       "1024"
      ]
     },
     "execution_count": 5,
     "metadata": {},
     "output_type": "execute_result"
    }
   ],
   "source": [
    "\n",
    "2 ** 10          # exponentiation\n"
   ]
  },
  {
   "cell_type": "markdown",
   "id": "34df1a2b",
   "metadata": {},
   "source": [
    "\n",
    "### Mini‑exercise: BMI\n",
    "Compute Body Mass Index for `weight = 70` (kg) and `height = 1.75` (m).\n",
    "\n",
    "> **BMI** = weight / height²\n"
   ]
  },
  {
   "cell_type": "code",
   "execution_count": 5,
   "id": "d59412ac",
   "metadata": {},
   "outputs": [
    {
     "data": {
      "text/plain": [
       "22.205989773557338"
      ]
     },
     "execution_count": 5,
     "metadata": {},
     "output_type": "execute_result"
    }
   ],
   "source": [
    "\n",
    "# Your turn:\n",
    "weight = 76\n",
    "height = 1.85\n",
    "bmi = weight / (height ** 2)\n",
    "bmi\n"
   ]
  },
  {
   "cell_type": "markdown",
   "id": "0f8b273b",
   "metadata": {},
   "source": [
    "\n",
    "## Variables & basic data types\n",
    "Common built‑ins:\n",
    "- `int`: integers  \n",
    "- `float`: decimal numbers  \n",
    "- `str`: text strings  \n",
    "- `bool`: logical values `True` / `False`\n"
   ]
  },
  {
   "cell_type": "code",
   "execution_count": 7,
   "id": "0aad852d",
   "metadata": {},
   "outputs": [
    {
     "data": {
      "text/plain": [
       "(int, float, str, bool)"
      ]
     },
     "execution_count": 7,
     "metadata": {},
     "output_type": "execute_result"
    }
   ],
   "source": [
    "\n",
    "x = 10          # int\n",
    "y = 3.14        # float\n",
    "name = \"Alice\"  # str\n",
    "is_student = True  # bool\n",
    "\n",
    "type(x), type(y), type(name), type(is_student)\n"
   ]
  },
  {
   "cell_type": "markdown",
   "id": "def22ab7",
   "metadata": {},
   "source": [
    "\n",
    "### Type casting (explicit conversions)\n",
    "Useful when mixing types (e.g., user input from strings).\n"
   ]
  },
  {
   "cell_type": "code",
   "execution_count": 8,
   "id": "46d6b15d",
   "metadata": {},
   "outputs": [
    {
     "data": {
      "text/plain": [
       "(5, 3.0, '123', False, True)"
      ]
     },
     "execution_count": 8,
     "metadata": {},
     "output_type": "execute_result"
    }
   ],
   "source": [
    "\n",
    "int(\"5\"), float(3), str(123), bool(0), bool(42)\n"
   ]
  },
  {
   "cell_type": "markdown",
   "id": "68200d54",
   "metadata": {},
   "source": [
    "\n",
    "### Variables in detail\n",
    "- Names start with a letter or underscore, then letters/digits/underscores  \n",
    "- Case‑sensitive  \n",
    "- Avoid reserved keywords (`for`, `while`, `if`, `class`, `True`, `None`, …)\n"
   ]
  },
  {
   "cell_type": "code",
   "execution_count": 9,
   "id": "c1880873",
   "metadata": {},
   "outputs": [
    {
     "data": {
      "text/plain": [
       "(True, False)"
      ]
     },
     "execution_count": 9,
     "metadata": {},
     "output_type": "execute_result"
    }
   ],
   "source": [
    "\n",
    "import keyword\n",
    "keyword.iskeyword(\"class\"), keyword.iskeyword(\"hello\")\n"
   ]
  },
  {
   "cell_type": "markdown",
   "id": "6dfd057a",
   "metadata": {},
   "source": [
    "\n",
    "## Working with libraries\n",
    "Standard & external libraries extend Python.\n"
   ]
  },
  {
   "cell_type": "code",
   "execution_count": 10,
   "id": "ee804d4c",
   "metadata": {},
   "outputs": [
    {
     "data": {
      "text/plain": [
       "4.0"
      ]
     },
     "execution_count": 10,
     "metadata": {},
     "output_type": "execute_result"
    }
   ],
   "source": [
    "\n",
    "import math\n",
    "math.sqrt(16)\n"
   ]
  },
  {
   "cell_type": "markdown",
   "id": "77ae00e5",
   "metadata": {},
   "source": [
    "\n",
    "## Importing & saving files\n",
    "\n",
    "Below are small, self‑contained examples using temporary files.  \n",
    "> In your projects, replace file paths with real data locations.\n"
   ]
  },
  {
   "cell_type": "markdown",
   "id": "6e689fa7",
   "metadata": {},
   "source": [
    "### CSV with `pandas`"
   ]
  },
  {
   "cell_type": "code",
   "execution_count": 11,
   "id": "5a0e38e0",
   "metadata": {},
   "outputs": [],
   "source": [
    "\n",
    "# import pandas as pd\n",
    "\n",
    "# # Create a small DataFrame\n",
    "# df = pd.DataFrame({\"name\": [\"Alice\", \"Bob\"], \"score\": [90, 85]})\n",
    "# csv_path = \"example.csv\"\n",
    "# df.to_csv(csv_path, index=False)\n",
    "\n",
    "# # Read it back\n",
    "# pd.read_csv(csv_path)\n"
   ]
  },
  {
   "cell_type": "code",
   "execution_count": 12,
   "id": "050eaa8b-6686-4103-8516-0ff621fcabda",
   "metadata": {},
   "outputs": [
    {
     "name": "stdout",
     "output_type": "stream",
     "text": [
      "Kernel: /opt/homebrew/opt/python@3.13/bin/python3.13\n",
      "Python: 3.13.7\n",
      "Has pandas? True\n"
     ]
    },
    {
     "name": "stderr",
     "output_type": "stream",
     "text": [
      "/var/folders/vc/w02fqcd173b_gsf7prxlrtc00000gp/T/ipykernel_34513/1822089515.py:4: DeprecationWarning: 'pkgutil.find_loader' is deprecated and slated for removal in Python 3.14; use importlib.util.find_spec() instead\n",
      "  print(\"Has pandas?\", pkgutil.find_loader(\"pandas\") is not None)\n"
     ]
    }
   ],
   "source": [
    "import sys, pkgutil, platform\n",
    "print(\"Kernel:\", sys.executable)\n",
    "print(\"Python:\", platform.python_version())\n",
    "print(\"Has pandas?\", pkgutil.find_loader(\"pandas\") is not None)\n"
   ]
  },
  {
   "cell_type": "code",
   "execution_count": 13,
   "id": "032f85e1-6240-48c1-be84-a44b0ac208aa",
   "metadata": {},
   "outputs": [
    {
     "name": "stdout",
     "output_type": "stream",
     "text": [
      "    name  score\n",
      "0  Alice     90\n",
      "1    Bob     85\n",
      "    name  score\n",
      "0  Alice     90\n",
      "1    Bob     85\n"
     ]
    }
   ],
   "source": [
    "# !pip install pandas\n",
    "\n",
    "import pandas as pd\n",
    "pd.__version__\n",
    "\n",
    "# Create a small DataFrame\n",
    "df = pd.DataFrame({\"name\": [\"Alice\", \"Bob\"], \"score\": [90, 85]})\n",
    "print(df)\n",
    "csv_path = \"example.csv\"\n",
    "df.to_csv(csv_path, index=False)\n",
    "\n",
    "# Read it back\n",
    "x = pd.read_csv(csv_path)\n",
    "print(x)"
   ]
  },
  {
   "cell_type": "markdown",
   "id": "c32bd3ee",
   "metadata": {},
   "source": [
    "### Plain text (TXT)"
   ]
  },
  {
   "cell_type": "code",
   "execution_count": 14,
   "id": "23d001a0",
   "metadata": {},
   "outputs": [
    {
     "name": "stdout",
     "output_type": "stream",
     "text": [
      "Hello Python!\n",
      "This is a text file.\n"
     ]
    }
   ],
   "source": [
    "\n",
    "txt_path = \"note.txt\"\n",
    "with open(txt_path, \"w\", encoding=\"utf-8\") as f:\n",
    "    f.write(\"Hello Python!\\nThis is a text file.\")\n",
    "\n",
    "with open(txt_path, \"r\", encoding=\"utf-8\") as f:\n",
    "    print(f.read())\n"
   ]
  },
  {
   "cell_type": "markdown",
   "id": "675bf539",
   "metadata": {},
   "source": [
    "### Excel (`.xlsx`) with `pandas`"
   ]
  },
  {
   "cell_type": "code",
   "execution_count": 15,
   "id": "d98e5156",
   "metadata": {},
   "outputs": [
    {
     "ename": "ModuleNotFoundError",
     "evalue": "No module named 'openpyxl'",
     "output_type": "error",
     "traceback": [
      "\u001b[31m---------------------------------------------------------------------------\u001b[39m",
      "\u001b[31mModuleNotFoundError\u001b[39m                       Traceback (most recent call last)",
      "\u001b[36mCell\u001b[39m\u001b[36m \u001b[39m\u001b[32mIn[15]\u001b[39m\u001b[32m, line 3\u001b[39m\n\u001b[32m      1\u001b[39m \u001b[38;5;66;03m# Writing/reading Excel require 'openpyxl' in most environments.\u001b[39;00m\n\u001b[32m      2\u001b[39m xlsx_path = \u001b[33m\"\u001b[39m\u001b[33mexample.xlsx\u001b[39m\u001b[33m\"\u001b[39m\n\u001b[32m----> \u001b[39m\u001b[32m3\u001b[39m \u001b[43mdf\u001b[49m\u001b[43m.\u001b[49m\u001b[43mto_excel\u001b[49m\u001b[43m(\u001b[49m\u001b[43mxlsx_path\u001b[49m\u001b[43m,\u001b[49m\u001b[43m \u001b[49m\u001b[43mindex\u001b[49m\u001b[43m=\u001b[49m\u001b[38;5;28;43;01mFalse\u001b[39;49;00m\u001b[43m)\u001b[49m\n\u001b[32m      5\u001b[39m pd.read_excel(xlsx_path)\n",
      "\u001b[36mFile \u001b[39m\u001b[32m~/Library/Python/3.13/lib/python/site-packages/pandas/util/_decorators.py:333\u001b[39m, in \u001b[36mdeprecate_nonkeyword_arguments.<locals>.decorate.<locals>.wrapper\u001b[39m\u001b[34m(*args, **kwargs)\u001b[39m\n\u001b[32m    327\u001b[39m \u001b[38;5;28;01mif\u001b[39;00m \u001b[38;5;28mlen\u001b[39m(args) > num_allow_args:\n\u001b[32m    328\u001b[39m     warnings.warn(\n\u001b[32m    329\u001b[39m         msg.format(arguments=_format_argument_list(allow_args)),\n\u001b[32m    330\u001b[39m         \u001b[38;5;167;01mFutureWarning\u001b[39;00m,\n\u001b[32m    331\u001b[39m         stacklevel=find_stack_level(),\n\u001b[32m    332\u001b[39m     )\n\u001b[32m--> \u001b[39m\u001b[32m333\u001b[39m \u001b[38;5;28;01mreturn\u001b[39;00m \u001b[43mfunc\u001b[49m\u001b[43m(\u001b[49m\u001b[43m*\u001b[49m\u001b[43margs\u001b[49m\u001b[43m,\u001b[49m\u001b[43m \u001b[49m\u001b[43m*\u001b[49m\u001b[43m*\u001b[49m\u001b[43mkwargs\u001b[49m\u001b[43m)\u001b[49m\n",
      "\u001b[36mFile \u001b[39m\u001b[32m~/Library/Python/3.13/lib/python/site-packages/pandas/core/generic.py:2439\u001b[39m, in \u001b[36mNDFrame.to_excel\u001b[39m\u001b[34m(self, excel_writer, sheet_name, na_rep, float_format, columns, header, index, index_label, startrow, startcol, engine, merge_cells, inf_rep, freeze_panes, storage_options, engine_kwargs)\u001b[39m\n\u001b[32m   2426\u001b[39m \u001b[38;5;28;01mfrom\u001b[39;00m\u001b[38;5;250m \u001b[39m\u001b[34;01mpandas\u001b[39;00m\u001b[34;01m.\u001b[39;00m\u001b[34;01mio\u001b[39;00m\u001b[34;01m.\u001b[39;00m\u001b[34;01mformats\u001b[39;00m\u001b[34;01m.\u001b[39;00m\u001b[34;01mexcel\u001b[39;00m\u001b[38;5;250m \u001b[39m\u001b[38;5;28;01mimport\u001b[39;00m ExcelFormatter\n\u001b[32m   2428\u001b[39m formatter = ExcelFormatter(\n\u001b[32m   2429\u001b[39m     df,\n\u001b[32m   2430\u001b[39m     na_rep=na_rep,\n\u001b[32m   (...)\u001b[39m\u001b[32m   2437\u001b[39m     inf_rep=inf_rep,\n\u001b[32m   2438\u001b[39m )\n\u001b[32m-> \u001b[39m\u001b[32m2439\u001b[39m \u001b[43mformatter\u001b[49m\u001b[43m.\u001b[49m\u001b[43mwrite\u001b[49m\u001b[43m(\u001b[49m\n\u001b[32m   2440\u001b[39m \u001b[43m    \u001b[49m\u001b[43mexcel_writer\u001b[49m\u001b[43m,\u001b[49m\n\u001b[32m   2441\u001b[39m \u001b[43m    \u001b[49m\u001b[43msheet_name\u001b[49m\u001b[43m=\u001b[49m\u001b[43msheet_name\u001b[49m\u001b[43m,\u001b[49m\n\u001b[32m   2442\u001b[39m \u001b[43m    \u001b[49m\u001b[43mstartrow\u001b[49m\u001b[43m=\u001b[49m\u001b[43mstartrow\u001b[49m\u001b[43m,\u001b[49m\n\u001b[32m   2443\u001b[39m \u001b[43m    \u001b[49m\u001b[43mstartcol\u001b[49m\u001b[43m=\u001b[49m\u001b[43mstartcol\u001b[49m\u001b[43m,\u001b[49m\n\u001b[32m   2444\u001b[39m \u001b[43m    \u001b[49m\u001b[43mfreeze_panes\u001b[49m\u001b[43m=\u001b[49m\u001b[43mfreeze_panes\u001b[49m\u001b[43m,\u001b[49m\n\u001b[32m   2445\u001b[39m \u001b[43m    \u001b[49m\u001b[43mengine\u001b[49m\u001b[43m=\u001b[49m\u001b[43mengine\u001b[49m\u001b[43m,\u001b[49m\n\u001b[32m   2446\u001b[39m \u001b[43m    \u001b[49m\u001b[43mstorage_options\u001b[49m\u001b[43m=\u001b[49m\u001b[43mstorage_options\u001b[49m\u001b[43m,\u001b[49m\n\u001b[32m   2447\u001b[39m \u001b[43m    \u001b[49m\u001b[43mengine_kwargs\u001b[49m\u001b[43m=\u001b[49m\u001b[43mengine_kwargs\u001b[49m\u001b[43m,\u001b[49m\n\u001b[32m   2448\u001b[39m \u001b[43m\u001b[49m\u001b[43m)\u001b[49m\n",
      "\u001b[36mFile \u001b[39m\u001b[32m~/Library/Python/3.13/lib/python/site-packages/pandas/io/formats/excel.py:943\u001b[39m, in \u001b[36mExcelFormatter.write\u001b[39m\u001b[34m(self, writer, sheet_name, startrow, startcol, freeze_panes, engine, storage_options, engine_kwargs)\u001b[39m\n\u001b[32m    941\u001b[39m     need_save = \u001b[38;5;28;01mFalse\u001b[39;00m\n\u001b[32m    942\u001b[39m \u001b[38;5;28;01melse\u001b[39;00m:\n\u001b[32m--> \u001b[39m\u001b[32m943\u001b[39m     writer = \u001b[43mExcelWriter\u001b[49m\u001b[43m(\u001b[49m\n\u001b[32m    944\u001b[39m \u001b[43m        \u001b[49m\u001b[43mwriter\u001b[49m\u001b[43m,\u001b[49m\n\u001b[32m    945\u001b[39m \u001b[43m        \u001b[49m\u001b[43mengine\u001b[49m\u001b[43m=\u001b[49m\u001b[43mengine\u001b[49m\u001b[43m,\u001b[49m\n\u001b[32m    946\u001b[39m \u001b[43m        \u001b[49m\u001b[43mstorage_options\u001b[49m\u001b[43m=\u001b[49m\u001b[43mstorage_options\u001b[49m\u001b[43m,\u001b[49m\n\u001b[32m    947\u001b[39m \u001b[43m        \u001b[49m\u001b[43mengine_kwargs\u001b[49m\u001b[43m=\u001b[49m\u001b[43mengine_kwargs\u001b[49m\u001b[43m,\u001b[49m\n\u001b[32m    948\u001b[39m \u001b[43m    \u001b[49m\u001b[43m)\u001b[49m\n\u001b[32m    949\u001b[39m     need_save = \u001b[38;5;28;01mTrue\u001b[39;00m\n\u001b[32m    951\u001b[39m \u001b[38;5;28;01mtry\u001b[39;00m:\n",
      "\u001b[36mFile \u001b[39m\u001b[32m~/Library/Python/3.13/lib/python/site-packages/pandas/io/excel/_openpyxl.py:57\u001b[39m, in \u001b[36mOpenpyxlWriter.__init__\u001b[39m\u001b[34m(self, path, engine, date_format, datetime_format, mode, storage_options, if_sheet_exists, engine_kwargs, **kwargs)\u001b[39m\n\u001b[32m     44\u001b[39m \u001b[38;5;28;01mdef\u001b[39;00m\u001b[38;5;250m \u001b[39m\u001b[34m__init__\u001b[39m(\n\u001b[32m     45\u001b[39m     \u001b[38;5;28mself\u001b[39m,\n\u001b[32m     46\u001b[39m     path: FilePath | WriteExcelBuffer | ExcelWriter,\n\u001b[32m   (...)\u001b[39m\u001b[32m     55\u001b[39m ) -> \u001b[38;5;28;01mNone\u001b[39;00m:\n\u001b[32m     56\u001b[39m     \u001b[38;5;66;03m# Use the openpyxl module as the Excel writer.\u001b[39;00m\n\u001b[32m---> \u001b[39m\u001b[32m57\u001b[39m     \u001b[38;5;28;01mfrom\u001b[39;00m\u001b[38;5;250m \u001b[39m\u001b[34;01mopenpyxl\u001b[39;00m\u001b[34;01m.\u001b[39;00m\u001b[34;01mworkbook\u001b[39;00m\u001b[38;5;250m \u001b[39m\u001b[38;5;28;01mimport\u001b[39;00m Workbook\n\u001b[32m     59\u001b[39m     engine_kwargs = combine_kwargs(engine_kwargs, kwargs)\n\u001b[32m     61\u001b[39m     \u001b[38;5;28msuper\u001b[39m().\u001b[34m__init__\u001b[39m(\n\u001b[32m     62\u001b[39m         path,\n\u001b[32m     63\u001b[39m         mode=mode,\n\u001b[32m   (...)\u001b[39m\u001b[32m     66\u001b[39m         engine_kwargs=engine_kwargs,\n\u001b[32m     67\u001b[39m     )\n",
      "\u001b[31mModuleNotFoundError\u001b[39m: No module named 'openpyxl'"
     ]
    }
   ],
   "source": [
    "\n",
    "# Writing/reading Excel require 'openpyxl' in most environments.\n",
    "xlsx_path = \"example.xlsx\"\n",
    "df.to_excel(xlsx_path, index=False)\n",
    "\n",
    "pd.read_excel(xlsx_path)\n"
   ]
  },
  {
   "cell_type": "code",
   "execution_count": 16,
   "id": "7c41b3b8-28cc-4c85-afef-795caf56d740",
   "metadata": {},
   "outputs": [
    {
     "data": {
      "text/html": [
       "<div>\n",
       "<style scoped>\n",
       "    .dataframe tbody tr th:only-of-type {\n",
       "        vertical-align: middle;\n",
       "    }\n",
       "\n",
       "    .dataframe tbody tr th {\n",
       "        vertical-align: top;\n",
       "    }\n",
       "\n",
       "    .dataframe thead th {\n",
       "        text-align: right;\n",
       "    }\n",
       "</style>\n",
       "<table border=\"1\" class=\"dataframe\">\n",
       "  <thead>\n",
       "    <tr style=\"text-align: right;\">\n",
       "      <th></th>\n",
       "      <th>name</th>\n",
       "      <th>score</th>\n",
       "    </tr>\n",
       "  </thead>\n",
       "  <tbody>\n",
       "    <tr>\n",
       "      <th>0</th>\n",
       "      <td>Alice</td>\n",
       "      <td>90</td>\n",
       "    </tr>\n",
       "    <tr>\n",
       "      <th>1</th>\n",
       "      <td>Bob</td>\n",
       "      <td>85</td>\n",
       "    </tr>\n",
       "  </tbody>\n",
       "</table>\n",
       "</div>"
      ],
      "text/plain": [
       "    name  score\n",
       "0  Alice     90\n",
       "1    Bob     85"
      ]
     },
     "execution_count": 16,
     "metadata": {},
     "output_type": "execute_result"
    }
   ],
   "source": [
    "# pip3 install openpyxl\n",
    "# pip install openpyxl\n",
    "\n",
    "\n",
    "# Writing/reading Excel require 'openpyxl' in most environments.\n",
    "xlsx_path = \"example.xlsx\"\n",
    "df.to_excel(xlsx_path, index=False)\n",
    "\n",
    "pd.read_excel(xlsx_path)\n",
    "\n"
   ]
  },
  {
   "cell_type": "markdown",
   "id": "a2b3c7de",
   "metadata": {},
   "source": [
    "### JSON"
   ]
  },
  {
   "cell_type": "code",
   "execution_count": 17,
   "id": "2ab0c02f",
   "metadata": {},
   "outputs": [
    {
     "data": {
      "text/plain": [
       "{'users': [{'id': 1, 'name': 'Alice'}, {'id': 2, 'name': 'Bob'}]}"
      ]
     },
     "execution_count": 17,
     "metadata": {},
     "output_type": "execute_result"
    }
   ],
   "source": [
    "\n",
    "import json\n",
    "\n",
    "data = {\"users\": [{\"id\": 1, \"name\": \"Alice\"}, {\"id\": 2, \"name\": \"Bob\"}]}\n",
    "json_path = \"data.json\"\n",
    "with open(json_path, \"w\", encoding=\"utf-8\") as f:\n",
    "    json.dump(data, f)\n",
    "\n",
    "with open(json_path, \"r\", encoding=\"utf-8\") as f:\n",
    "    loaded = json.load(f)\n",
    "loaded\n"
   ]
  },
  {
   "cell_type": "markdown",
   "id": "0fa1115d",
   "metadata": {},
   "source": [
    "\n",
    "## Indentation — whitespace matters\n",
    "Python uses indentation to define **code blocks**.\n"
   ]
  },
  {
   "cell_type": "code",
   "execution_count": 18,
   "id": "c9b9b7a4",
   "metadata": {},
   "outputs": [
    {
     "name": "stdout",
     "output_type": "stream",
     "text": [
      "Positive\n"
     ]
    }
   ],
   "source": [
    "\n",
    "x = 3\n",
    "if x > 0:\n",
    "    print(\"Positive\")\n"
   ]
  },
  {
   "cell_type": "markdown",
   "id": "c6b43521",
   "metadata": {},
   "source": [
    "\n",
    "## Errors — syntax vs runtime\n",
    "- **SyntaxError**: code violates language rules (caught before running)  \n",
    "- **RuntimeError / Exceptions**: happens **during** execution\n"
   ]
  },
  {
   "cell_type": "code",
   "execution_count": null,
   "id": "d477363e-8798-4dfc-b7c2-23784cbf67ef",
   "metadata": {},
   "outputs": [],
   "source": []
  },
  {
   "cell_type": "code",
   "execution_count": 19,
   "id": "a92d37d7",
   "metadata": {},
   "outputs": [
    {
     "name": "stdout",
     "output_type": "stream",
     "text": [
      "Caught: division by zero\n"
     ]
    }
   ],
   "source": [
    "\n",
    "# Example: ZeroDivisionError (runtime)\n",
    "try:\n",
    "    5 / 0\n",
    "except ZeroDivisionError as e:\n",
    "    print(\"Caught:\", e)\n"
   ]
  },
  {
   "cell_type": "markdown",
   "id": "5b41af8f",
   "metadata": {},
   "source": [
    "\n",
    "## Comments\n",
    "Use `#` for single‑line comments. Use triple quotes `\"\"\" ... \"\"\"` for docstrings.\n"
   ]
  },
  {
   "cell_type": "code",
   "execution_count": 21,
   "id": "bc9c1929",
   "metadata": {},
   "outputs": [
    {
     "data": {
      "text/plain": [
       "'Hello, World!'"
      ]
     },
     "execution_count": 21,
     "metadata": {},
     "output_type": "execute_result"
    }
   ],
   "source": [
    "\n",
    "# This is a comment\n",
    "def greet(name):\n",
    "    \"\"\"Return a friendly greeting.\"\"\"\n",
    "    return f\"Hello, {name}!\"\n",
    "\n",
    "greet(\"World\")\n"
   ]
  },
  {
   "cell_type": "markdown",
   "id": "ecfe0a08",
   "metadata": {},
   "source": [
    "\n",
    "## Quick quiz (multiple choice)\n",
    "\n",
    "**Q1.** What is the main reason Python requires indentation in code blocks?  \n",
    "A) Improve performance B) Only readability C) Define structure/logic D) Separate comments  \n",
    "**Answer:** C\n",
    "\n",
    "**Q2.** Which data types are built‑in to Python?  \n",
    "A) `int` B) `float` C) `str` D) `decimal`  \n",
    "**Answer:** A, B, C\n",
    "\n",
    "**Q3.** Which statement about Python is correct?  \n",
    "A) No floating‑point support. B) Requires `{}` for blocks. C) Jupyter can't show plots/images. D) **None of the above**  \n",
    "**Answer:** D\n"
   ]
  },
  {
   "cell_type": "markdown",
   "id": "ed50b245",
   "metadata": {},
   "source": [
    "\n",
    "## Practice — small tasks\n",
    "1. Compute the compound amount for principal=1000, rate=5% (0.05), years=3.  \n",
    "2. Create a DataFrame of three students with columns: `name`, `age`, `grade`. Save to CSV and read it back.  \n",
    "3. Write a function `is_even(n)` that returns `True` if `n` is even.  \n",
    "4. Use `try/except` to catch invalid integer input from a string like `\"42a\"`.\n"
   ]
  },
  {
   "cell_type": "code",
   "execution_count": 22,
   "id": "d0816386",
   "metadata": {},
   "outputs": [
    {
     "data": {
      "text/plain": [
       "1157.6250000000002"
      ]
     },
     "execution_count": 22,
     "metadata": {},
     "output_type": "execute_result"
    }
   ],
   "source": [
    "\n",
    "# 1) Compound amount\n",
    "principal = 1000\n",
    "rate = 0.05\n",
    "years = 3\n",
    "amount = principal * (1 + rate) ** years\n",
    "amount\n"
   ]
  },
  {
   "cell_type": "code",
   "execution_count": 23,
   "id": "ec099dc8",
   "metadata": {},
   "outputs": [
    {
     "data": {
      "text/html": [
       "<div>\n",
       "<style scoped>\n",
       "    .dataframe tbody tr th:only-of-type {\n",
       "        vertical-align: middle;\n",
       "    }\n",
       "\n",
       "    .dataframe tbody tr th {\n",
       "        vertical-align: top;\n",
       "    }\n",
       "\n",
       "    .dataframe thead th {\n",
       "        text-align: right;\n",
       "    }\n",
       "</style>\n",
       "<table border=\"1\" class=\"dataframe\">\n",
       "  <thead>\n",
       "    <tr style=\"text-align: right;\">\n",
       "      <th></th>\n",
       "      <th>name</th>\n",
       "      <th>age</th>\n",
       "      <th>grade</th>\n",
       "    </tr>\n",
       "  </thead>\n",
       "  <tbody>\n",
       "    <tr>\n",
       "      <th>0</th>\n",
       "      <td>Ana</td>\n",
       "      <td>21</td>\n",
       "      <td>A</td>\n",
       "    </tr>\n",
       "    <tr>\n",
       "      <th>1</th>\n",
       "      <td>Ben</td>\n",
       "      <td>22</td>\n",
       "      <td>B</td>\n",
       "    </tr>\n",
       "    <tr>\n",
       "      <th>2</th>\n",
       "      <td>Cara</td>\n",
       "      <td>20</td>\n",
       "      <td>A-</td>\n",
       "    </tr>\n",
       "  </tbody>\n",
       "</table>\n",
       "</div>"
      ],
      "text/plain": [
       "   name  age grade\n",
       "0   Ana   21     A\n",
       "1   Ben   22     B\n",
       "2  Cara   20    A-"
      ]
     },
     "execution_count": 23,
     "metadata": {},
     "output_type": "execute_result"
    }
   ],
   "source": [
    "\n",
    "# 2) DataFrame save & load\n",
    "import pandas as pd\n",
    "\n",
    "students = pd.DataFrame({\n",
    "    \"name\": [\"Ana\", \"Ben\", \"Cara\"],\n",
    "    \"age\": [21, 22, 20],\n",
    "    \"grade\": [\"A\", \"B\", \"A-\"]\n",
    "})\n",
    "students.to_csv(\"students.csv\", index=False)\n",
    "pd.read_csv(\"students.csv\")\n"
   ]
  },
  {
   "cell_type": "code",
   "execution_count": 24,
   "id": "e6930ef0",
   "metadata": {},
   "outputs": [
    {
     "data": {
      "text/plain": [
       "[True, False, True, False, True, False]"
      ]
     },
     "execution_count": 24,
     "metadata": {},
     "output_type": "execute_result"
    }
   ],
   "source": [
    "\n",
    "# 3) is_even function\n",
    "def is_even(n: int) -> bool:\n",
    "    return n % 2 == 0\n",
    "\n",
    "[is_even(i) for i in range(6)]\n"
   ]
  },
  {
   "cell_type": "code",
   "execution_count": 25,
   "id": "6de1907a",
   "metadata": {},
   "outputs": [
    {
     "data": {
      "text/plain": [
       "(42, None)"
      ]
     },
     "execution_count": 25,
     "metadata": {},
     "output_type": "execute_result"
    }
   ],
   "source": [
    "\n",
    "# 4) Safe integer parsing\n",
    "def try_parse_int(s: str):\n",
    "    try:\n",
    "        return int(s)\n",
    "    except ValueError:\n",
    "        return None\n",
    "\n",
    "try_parse_int(\"42\"), try_parse_int(\"42a\")\n"
   ]
  },
  {
   "cell_type": "markdown",
   "id": "5f6439c1",
   "metadata": {},
   "source": [
    "\n",
    "## Wrap‑up\n",
    "- Python is simple, powerful, and broadly used  \n",
    "- Jupyter helps you explore; VS Code helps you engineer  \n",
    "- Practice: arithmetic, data types, libraries, files, and error handling\n",
    "\n",
    "**Next steps:** Extend this notebook with your own examples, explore `pandas` and `numpy`, and try building a small data story with plots.\n"
   ]
  }
 ],
 "metadata": {
  "kernelspec": {
   "display_name": "Python (jupy)",
   "language": "python",
   "name": "jupy"
  },
  "language_info": {
   "codemirror_mode": {
    "name": "ipython",
    "version": 3
   },
   "file_extension": ".py",
   "mimetype": "text/x-python",
   "name": "python",
   "nbconvert_exporter": "python",
   "pygments_lexer": "ipython3",
   "version": "3.12.3"
  }
 },
 "nbformat": 4,
 "nbformat_minor": 5
}
